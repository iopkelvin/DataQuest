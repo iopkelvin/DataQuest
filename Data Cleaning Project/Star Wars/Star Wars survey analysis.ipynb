{
 "cells": [
  {
   "cell_type": "markdown",
   "metadata": {
    "collapsed": true
   },
   "source": [
    "## Star Wars Fan Survey\n",
    "\n",
    "\n",
    "The project was created to answer the question:\n",
    "\n",
    "**does the rest of America realize that “The Empire Strikes Back” is clearly the best of the bunch?**\n",
    "\n",
    "As a result, the dataset contains survey information from Star Wars fans. 835 surveys were collected."
   ]
  },
  {
   "cell_type": "code",
   "execution_count": 1,
   "metadata": {
    "collapsed": true
   },
   "outputs": [],
   "source": [
    "import pandas as pd\n",
    "import numpy as np\n",
    "import matplotlib.pyplot as plt\n",
    "%matplotlib inline"
   ]
  },
  {
   "cell_type": "code",
   "execution_count": 2,
   "metadata": {
    "collapsed": true
   },
   "outputs": [],
   "source": [
    "#star_wars = pd.read_csv(\"star_wars.csv\")\n",
    "star_wars = pd.read_csv(\"star_wars.csv\", encoding=\"ISO-8859-1\")"
   ]
  },
  {
   "cell_type": "code",
   "execution_count": 3,
   "metadata": {
    "collapsed": false
   },
   "outputs": [
    {
     "name": "stdout",
     "output_type": "stream",
     "text": [
      "Amount of columns:  38\n",
      "\n",
      "Column names:\n",
      " Index(['RespondentID',\n",
      "       'Have you seen any of the 6 films in the Star Wars franchise?',\n",
      "       'Do you consider yourself to be a fan of the Star Wars film franchise?',\n",
      "       'Which of the following Star Wars films have you seen? Please select all that apply.',\n",
      "       'Unnamed: 4', 'Unnamed: 5', 'Unnamed: 6', 'Unnamed: 7', 'Unnamed: 8',\n",
      "       'Please rank the Star Wars films in order of preference with 1 being your favorite film in the franchise and 6 being your least favorite film.',\n",
      "       'Unnamed: 10', 'Unnamed: 11', 'Unnamed: 12', 'Unnamed: 13',\n",
      "       'Unnamed: 14',\n",
      "       'Please state whether you view the following characters favorably, unfavorably, or are unfamiliar with him/her.',\n",
      "       'Unnamed: 16', 'Unnamed: 17', 'Unnamed: 18', 'Unnamed: 19',\n",
      "       'Unnamed: 20', 'Unnamed: 21', 'Unnamed: 22', 'Unnamed: 23',\n",
      "       'Unnamed: 24', 'Unnamed: 25', 'Unnamed: 26', 'Unnamed: 27',\n",
      "       'Unnamed: 28', 'Which character shot first?',\n",
      "       'Are you familiar with the Expanded Universe?',\n",
      "       'Do you consider yourself to be a fan of the Expanded Universe?ÂÃ¦',\n",
      "       'Do you consider yourself to be a fan of the Star Trek franchise?',\n",
      "       'Gender', 'Age', 'Household Income', 'Education',\n",
      "       'Location (Census Region)'],\n",
      "      dtype='object')\n"
     ]
    }
   ],
   "source": [
    "#Column names\n",
    "print(\"Amount of columns: \", len(star_wars.columns))\n",
    "print(\"\\nColumn names:\\n\", star_wars.columns)"
   ]
  },
  {
   "cell_type": "code",
   "execution_count": 4,
   "metadata": {
    "collapsed": false,
    "scrolled": false
   },
   "outputs": [
    {
     "name": "stdout",
     "output_type": "stream",
     "text": [
      "(1187, 38)\n"
     ]
    },
    {
     "data": {
      "text/html": [
       "<div>\n",
       "<style scoped>\n",
       "    .dataframe tbody tr th:only-of-type {\n",
       "        vertical-align: middle;\n",
       "    }\n",
       "\n",
       "    .dataframe tbody tr th {\n",
       "        vertical-align: top;\n",
       "    }\n",
       "\n",
       "    .dataframe thead th {\n",
       "        text-align: right;\n",
       "    }\n",
       "</style>\n",
       "<table border=\"1\" class=\"dataframe\">\n",
       "  <thead>\n",
       "    <tr style=\"text-align: right;\">\n",
       "      <th></th>\n",
       "      <th>RespondentID</th>\n",
       "      <th>Have you seen any of the 6 films in the Star Wars franchise?</th>\n",
       "      <th>Do you consider yourself to be a fan of the Star Wars film franchise?</th>\n",
       "      <th>Which of the following Star Wars films have you seen? Please select all that apply.</th>\n",
       "      <th>Unnamed: 4</th>\n",
       "      <th>Unnamed: 5</th>\n",
       "      <th>Unnamed: 6</th>\n",
       "      <th>Unnamed: 7</th>\n",
       "      <th>Unnamed: 8</th>\n",
       "      <th>Please rank the Star Wars films in order of preference with 1 being your favorite film in the franchise and 6 being your least favorite film.</th>\n",
       "      <th>...</th>\n",
       "      <th>Unnamed: 28</th>\n",
       "      <th>Which character shot first?</th>\n",
       "      <th>Are you familiar with the Expanded Universe?</th>\n",
       "      <th>Do you consider yourself to be a fan of the Expanded Universe?ÂÃ¦</th>\n",
       "      <th>Do you consider yourself to be a fan of the Star Trek franchise?</th>\n",
       "      <th>Gender</th>\n",
       "      <th>Age</th>\n",
       "      <th>Household Income</th>\n",
       "      <th>Education</th>\n",
       "      <th>Location (Census Region)</th>\n",
       "    </tr>\n",
       "  </thead>\n",
       "  <tbody>\n",
       "    <tr>\n",
       "      <th>0</th>\n",
       "      <td>NaN</td>\n",
       "      <td>Response</td>\n",
       "      <td>Response</td>\n",
       "      <td>Star Wars: Episode I  The Phantom Menace</td>\n",
       "      <td>Star Wars: Episode II  Attack of the Clones</td>\n",
       "      <td>Star Wars: Episode III  Revenge of the Sith</td>\n",
       "      <td>Star Wars: Episode IV  A New Hope</td>\n",
       "      <td>Star Wars: Episode V The Empire Strikes Back</td>\n",
       "      <td>Star Wars: Episode VI Return of the Jedi</td>\n",
       "      <td>Star Wars: Episode I  The Phantom Menace</td>\n",
       "      <td>...</td>\n",
       "      <td>Yoda</td>\n",
       "      <td>Response</td>\n",
       "      <td>Response</td>\n",
       "      <td>Response</td>\n",
       "      <td>Response</td>\n",
       "      <td>Response</td>\n",
       "      <td>Response</td>\n",
       "      <td>Response</td>\n",
       "      <td>Response</td>\n",
       "      <td>Response</td>\n",
       "    </tr>\n",
       "    <tr>\n",
       "      <th>1</th>\n",
       "      <td>3.292880e+09</td>\n",
       "      <td>Yes</td>\n",
       "      <td>Yes</td>\n",
       "      <td>Star Wars: Episode I  The Phantom Menace</td>\n",
       "      <td>Star Wars: Episode II  Attack of the Clones</td>\n",
       "      <td>Star Wars: Episode III  Revenge of the Sith</td>\n",
       "      <td>Star Wars: Episode IV  A New Hope</td>\n",
       "      <td>Star Wars: Episode V The Empire Strikes Back</td>\n",
       "      <td>Star Wars: Episode VI Return of the Jedi</td>\n",
       "      <td>3</td>\n",
       "      <td>...</td>\n",
       "      <td>Very favorably</td>\n",
       "      <td>I don't understand this question</td>\n",
       "      <td>Yes</td>\n",
       "      <td>No</td>\n",
       "      <td>No</td>\n",
       "      <td>Male</td>\n",
       "      <td>18-29</td>\n",
       "      <td>NaN</td>\n",
       "      <td>High school degree</td>\n",
       "      <td>South Atlantic</td>\n",
       "    </tr>\n",
       "    <tr>\n",
       "      <th>2</th>\n",
       "      <td>3.292880e+09</td>\n",
       "      <td>No</td>\n",
       "      <td>NaN</td>\n",
       "      <td>NaN</td>\n",
       "      <td>NaN</td>\n",
       "      <td>NaN</td>\n",
       "      <td>NaN</td>\n",
       "      <td>NaN</td>\n",
       "      <td>NaN</td>\n",
       "      <td>NaN</td>\n",
       "      <td>...</td>\n",
       "      <td>NaN</td>\n",
       "      <td>NaN</td>\n",
       "      <td>NaN</td>\n",
       "      <td>NaN</td>\n",
       "      <td>Yes</td>\n",
       "      <td>Male</td>\n",
       "      <td>18-29</td>\n",
       "      <td>$0 - $24,999</td>\n",
       "      <td>Bachelor degree</td>\n",
       "      <td>West South Central</td>\n",
       "    </tr>\n",
       "  </tbody>\n",
       "</table>\n",
       "<p>3 rows × 38 columns</p>\n",
       "</div>"
      ],
      "text/plain": [
       "   RespondentID Have you seen any of the 6 films in the Star Wars franchise?  \\\n",
       "0           NaN                                           Response             \n",
       "1  3.292880e+09                                                Yes             \n",
       "2  3.292880e+09                                                 No             \n",
       "\n",
       "  Do you consider yourself to be a fan of the Star Wars film franchise?  \\\n",
       "0                                           Response                      \n",
       "1                                                Yes                      \n",
       "2                                                NaN                      \n",
       "\n",
       "  Which of the following Star Wars films have you seen? Please select all that apply.  \\\n",
       "0           Star Wars: Episode I  The Phantom Menace                                    \n",
       "1           Star Wars: Episode I  The Phantom Menace                                    \n",
       "2                                                NaN                                    \n",
       "\n",
       "                                    Unnamed: 4  \\\n",
       "0  Star Wars: Episode II  Attack of the Clones   \n",
       "1  Star Wars: Episode II  Attack of the Clones   \n",
       "2                                          NaN   \n",
       "\n",
       "                                    Unnamed: 5  \\\n",
       "0  Star Wars: Episode III  Revenge of the Sith   \n",
       "1  Star Wars: Episode III  Revenge of the Sith   \n",
       "2                                          NaN   \n",
       "\n",
       "                          Unnamed: 6  \\\n",
       "0  Star Wars: Episode IV  A New Hope   \n",
       "1  Star Wars: Episode IV  A New Hope   \n",
       "2                                NaN   \n",
       "\n",
       "                                     Unnamed: 7  \\\n",
       "0  Star Wars: Episode V The Empire Strikes Back   \n",
       "1  Star Wars: Episode V The Empire Strikes Back   \n",
       "2                                           NaN   \n",
       "\n",
       "                                 Unnamed: 8  \\\n",
       "0  Star Wars: Episode VI Return of the Jedi   \n",
       "1  Star Wars: Episode VI Return of the Jedi   \n",
       "2                                       NaN   \n",
       "\n",
       "  Please rank the Star Wars films in order of preference with 1 being your favorite film in the franchise and 6 being your least favorite film.  \\\n",
       "0           Star Wars: Episode I  The Phantom Menace                                                                                              \n",
       "1                                                  3                                                                                              \n",
       "2                                                NaN                                                                                              \n",
       "\n",
       "            ...                Unnamed: 28       Which character shot first?  \\\n",
       "0           ...                       Yoda                          Response   \n",
       "1           ...             Very favorably  I don't understand this question   \n",
       "2           ...                        NaN                               NaN   \n",
       "\n",
       "  Are you familiar with the Expanded Universe?  \\\n",
       "0                                     Response   \n",
       "1                                          Yes   \n",
       "2                                          NaN   \n",
       "\n",
       "  Do you consider yourself to be a fan of the Expanded Universe?ÂÃ¦  \\\n",
       "0                                           Response                   \n",
       "1                                                 No                   \n",
       "2                                                NaN                   \n",
       "\n",
       "  Do you consider yourself to be a fan of the Star Trek franchise?    Gender  \\\n",
       "0                                           Response                Response   \n",
       "1                                                 No                    Male   \n",
       "2                                                Yes                    Male   \n",
       "\n",
       "        Age Household Income           Education Location (Census Region)  \n",
       "0  Response         Response            Response                 Response  \n",
       "1     18-29              NaN  High school degree           South Atlantic  \n",
       "2     18-29     $0 - $24,999     Bachelor degree       West South Central  \n",
       "\n",
       "[3 rows x 38 columns]"
      ]
     },
     "execution_count": 4,
     "metadata": {},
     "output_type": "execute_result"
    }
   ],
   "source": [
    "print(star_wars.shape)\n",
    "star_wars.head(3)"
   ]
  },
  {
   "cell_type": "markdown",
   "metadata": {},
   "source": [
    "## Modifying RespondentID\n",
    "\n",
    "* The dataset needs to be cleaned to make it easy to represent in column format\n",
    "\n",
    "**RespondentID** column represents a unique ID for each respondent, but some rows have blank RespondentID, so they need to be removed"
   ]
  },
  {
   "cell_type": "code",
   "execution_count": 5,
   "metadata": {
    "collapsed": false,
    "scrolled": true
   },
   "outputs": [
    {
     "data": {
      "text/plain": [
       "False    1186\n",
       "True        1\n",
       "Name: RespondentID, dtype: int64"
      ]
     },
     "execution_count": 5,
     "metadata": {},
     "output_type": "execute_result"
    }
   ],
   "source": [
    "#NaN values in RespondentID\n",
    "star_wars[\"RespondentID\"].isnull().value_counts()"
   ]
  },
  {
   "cell_type": "markdown",
   "metadata": {
    "collapsed": true
   },
   "source": [
    "* 1 row needs to be removed"
   ]
  },
  {
   "cell_type": "code",
   "execution_count": 6,
   "metadata": {
    "collapsed": false
   },
   "outputs": [
    {
     "name": "stdout",
     "output_type": "stream",
     "text": [
      "Number of rows with 'Respondent ID' NaN values:  1187\n",
      "Number of rows without 'Respondent ID' NaN values:  1186\n"
     ]
    }
   ],
   "source": [
    "#Removing rows where \"RespondentID\" has NaN value\n",
    "print(\"Number of rows with 'Respondent ID' NaN values: \", star_wars.shape[0])\n",
    "star_wars = star_wars[star_wars[\"RespondentID\"].notnull()]\n",
    "print(\"Number of rows without 'Respondent ID' NaN values: \", star_wars.shape[0])"
   ]
  },
  {
   "cell_type": "markdown",
   "metadata": {},
   "source": [
    "## Modifying Yes/No questions\n",
    "\n",
    "Two columns ask the following questions:\n",
    "\n",
    "1. Have you seen any of the 6 films in the Star Wars franchise? \n",
    "2. Do you consider yourself to be a fan of the Star Wars film franchise?\n",
    "These two columns have answers as Yes, No, or NaN.\n",
    "\n",
    "It is convenient and more useful to convert these string values into Boolean (True/False/NaN) values"
   ]
  },
  {
   "cell_type": "code",
   "execution_count": 7,
   "metadata": {
    "collapsed": false
   },
   "outputs": [
    {
     "name": "stdout",
     "output_type": "stream",
     "text": [
      "question 1, unique values:\n",
      " ['Yes' 'No']\n",
      "\n",
      "question 2, unique values:\n",
      " ['Yes' nan 'No']\n"
     ]
    }
   ],
   "source": [
    "#question 1\n",
    "question1 = star_wars[\"Have you seen any of the 6 films in the Star Wars franchise?\"]\n",
    "print(\"question 1, unique values:\\n\", question1.unique())\n",
    "\n",
    "#question 2\n",
    "question2 = star_wars[\"Do you consider yourself to be a fan of the Star Wars film franchise?\"]\n",
    "print(\"\\nquestion 2, unique values:\\n\", question2.unique())"
   ]
  },
  {
   "cell_type": "markdown",
   "metadata": {},
   "source": [
    "* These two column questions have values of Yes, No, or NaN, and so they will be replaced to Boolean values"
   ]
  },
  {
   "cell_type": "code",
   "execution_count": 8,
   "metadata": {
    "collapsed": true
   },
   "outputs": [],
   "source": [
    "#Dictionary that will be used to map yes and no values to True and False\n",
    "maps = {\"Yes\": True, \"No\": False}"
   ]
  },
  {
   "cell_type": "code",
   "execution_count": 9,
   "metadata": {
    "collapsed": false
   },
   "outputs": [
    {
     "name": "stdout",
     "output_type": "stream",
     "text": [
      "question 1 after map: \n"
     ]
    },
    {
     "data": {
      "text/plain": [
       "True     936\n",
       "False    250\n",
       "Name: Have you seen any of the 6 films in the Star Wars franchise?, dtype: int64"
      ]
     },
     "execution_count": 9,
     "metadata": {},
     "output_type": "execute_result"
    }
   ],
   "source": [
    "#Converting question1 values\n",
    "star_wars[\"Have you seen any of the 6 films in the Star Wars franchise?\"] = question1.map(maps)\n",
    "print(\"question 1 after map: \")\n",
    "star_wars[\"Have you seen any of the 6 films in the Star Wars franchise?\"].value_counts(dropna=False)"
   ]
  },
  {
   "cell_type": "code",
   "execution_count": 10,
   "metadata": {
    "collapsed": false
   },
   "outputs": [
    {
     "name": "stdout",
     "output_type": "stream",
     "text": [
      "question 2 after map: \n"
     ]
    },
    {
     "data": {
      "text/plain": [
       "True     552\n",
       "NaN      350\n",
       "False    284\n",
       "Name: Do you consider yourself to be a fan of the Star Wars film franchise?, dtype: int64"
      ]
     },
     "execution_count": 10,
     "metadata": {},
     "output_type": "execute_result"
    }
   ],
   "source": [
    "#Converting question2 values\n",
    "star_wars[\"Do you consider yourself to be a fan of the Star Wars film franchise?\"] = question2.map(maps)\n",
    "print(\"question 2 after map: \")\n",
    "star_wars[\"Do you consider yourself to be a fan of the Star Wars film franchise?\"].value_counts(dropna=False)"
   ]
  },
  {
   "cell_type": "markdown",
   "metadata": {},
   "source": [
    "## Modifying checkbox questions"
   ]
  },
  {
   "cell_type": "markdown",
   "metadata": {},
   "source": []
  },
  {
   "cell_type": "markdown",
   "metadata": {},
   "source": [
    "The following columns represent a single checkbox question, but are separated among 6 different column for each of the 6 checkbox options:\n",
    "\n",
    "1. **Which of the following Star Wars films have you seen? Please select all that apply.** - Whether or not the respondent saw Star Wars: Episode I The Phantom Menace.\n",
    "2. **Unnamed: 4** - Whether or not the respondent saw Star Wars: Episode II Attack of the Clones.\n",
    "3. **Unnamed: 5** - Whether or not the respondent saw Star Wars: Episode III Revenge of the Sith.\n",
    "4. **Unnamed: 6** - Whether or not the respondent saw Star Wars: Episode IV A New Hope.\n",
    "5. **Unnamed: 7** - Whether or not the respondent saw Star Wars: Episode V The Empire Strikes Back.\n",
    "6. **Unnamed: 8** - Whether or not the respondent saw Star Wars: Episode VI Return of the Jedi."
   ]
  },
  {
   "cell_type": "code",
   "execution_count": 11,
   "metadata": {
    "collapsed": false
   },
   "outputs": [
    {
     "name": "stdout",
     "output_type": "stream",
     "text": [
      "question 1 values:\n",
      " ['Star Wars: Episode I  The Phantom Menace' nan]\n",
      "question 2 values:\n",
      " ['Star Wars: Episode II  Attack of the Clones' nan]\n",
      "question 3 values:\n",
      " ['Star Wars: Episode III  Revenge of the Sith' nan]\n",
      "question 4 values:\n",
      " ['Star Wars: Episode IV  A New Hope' nan]\n",
      "question 5 values:\n",
      " ['Star Wars: Episode V The Empire Strikes Back' nan]\n",
      "question 6 values:\n",
      " ['Star Wars: Episode VI Return of the Jedi' nan]\n"
     ]
    }
   ],
   "source": [
    "#Observing values for each checkbox column\n",
    "question1 = star_wars[\"Which of the following Star Wars films have you seen? Please select all that apply.\"]\n",
    "print(\"question 1 values:\\n\", question1.unique())\n",
    "question2 = star_wars[\"Unnamed: 4\"]\n",
    "print(\"question 2 values:\\n\", question2.unique())\n",
    "question3 = star_wars[\"Unnamed: 5\"]\n",
    "print(\"question 3 values:\\n\", question3.unique())\n",
    "question4 = star_wars[\"Unnamed: 6\"]\n",
    "print(\"question 4 values:\\n\", question4.unique())\n",
    "question5 = star_wars[\"Unnamed: 7\"]\n",
    "print(\"question 5 values:\\n\", question5.unique())\n",
    "question6 = star_wars[\"Unnamed: 8\"]\n",
    "print(\"question 6 values:\\n\", question6.unique())"
   ]
  },
  {
   "cell_type": "markdown",
   "metadata": {},
   "source": [
    "It will be easier if we transform these columns into Boolean values: True/ False. \n",
    "The NaN values mean failure to respond, or haven't watched the movie.\n",
    "* NaN values will be transformed into False"
   ]
  },
  {
   "cell_type": "markdown",
   "metadata": {
    "collapsed": true
   },
   "source": [
    "**Converting to Boolean**"
   ]
  },
  {
   "cell_type": "code",
   "execution_count": 12,
   "metadata": {
    "collapsed": true
   },
   "outputs": [],
   "source": [
    "#mapping dictionary to True or False\n",
    "true_false = {\"Star Wars: Episode I  The Phantom Menace\":True,\n",
    "             \"Star Wars: Episode II  Attack of the Clones\":True,\n",
    "             \"Star Wars: Episode III  Revenge of the Sith\":True,\n",
    "             \"Star Wars: Episode IV  A New Hope\":True,\n",
    "             \"Star Wars: Episode V The Empire Strikes Back\":True,\n",
    "             \"Star Wars: Episode VI Return of the Jedi\":True,\n",
    "             np.NaN:False}"
   ]
  },
  {
   "cell_type": "code",
   "execution_count": 13,
   "metadata": {
    "collapsed": false,
    "scrolled": true
   },
   "outputs": [
    {
     "name": "stdout",
     "output_type": "stream",
     "text": [
      "Values after update for Which of the following Star Wars films have you seen? Please select all that apply. :\n",
      " True     673\n",
      "False    513\n",
      "Name: Which of the following Star Wars films have you seen? Please select all that apply., dtype: int64\n",
      "Values after update for Unnamed: 4 :\n",
      " False    615\n",
      "True     571\n",
      "Name: Unnamed: 4, dtype: int64\n",
      "Values after update for Unnamed: 5 :\n",
      " False    636\n",
      "True     550\n",
      "Name: Unnamed: 5, dtype: int64\n",
      "Values after update for Unnamed: 6 :\n",
      " True     607\n",
      "False    579\n",
      "Name: Unnamed: 6, dtype: int64\n",
      "Values after update for Unnamed: 7 :\n",
      " True     758\n",
      "False    428\n",
      "Name: Unnamed: 7, dtype: int64\n",
      "Values after update for Unnamed: 8 :\n",
      " True     738\n",
      "False    448\n",
      "Name: Unnamed: 8, dtype: int64\n"
     ]
    }
   ],
   "source": [
    "#Applying Boolean mapping for each checkbox column\n",
    "for col in star_wars.columns[3:9]:\n",
    "    star_wars[col] = star_wars[col].map(true_false)\n",
    "    print(\"Values after update for\", col, \":\\n\", star_wars[col].value_counts(dropna=False))    "
   ]
  },
  {
   "cell_type": "code",
   "execution_count": 14,
   "metadata": {
    "collapsed": false,
    "scrolled": true
   },
   "outputs": [
    {
     "name": "stdout",
     "output_type": "stream",
     "text": [
      "Column names before change:\n",
      " Index(['Which of the following Star Wars films have you seen? Please select all that apply.',\n",
      "       'Unnamed: 4', 'Unnamed: 5', 'Unnamed: 6', 'Unnamed: 7', 'Unnamed: 8'],\n",
      "      dtype='object') \n",
      "\n",
      "Column names after change:\n",
      " Index(['seen_1', 'seen_2', 'seen_3', 'seen_4', 'seen_5', 'seen_6'], dtype='object')\n"
     ]
    }
   ],
   "source": [
    "#Renaming to more intuitive column names\n",
    "print(\"Column names before change:\\n\", star_wars.columns[3:9], \"\\n\")\n",
    "star_wars = star_wars.rename(columns={\"Which of the following Star Wars films have you seen? Please select all that apply.\": \"seen_1\",\n",
    "                 \"Unnamed: 4\": \"seen_2\",\n",
    "                 \"Unnamed: 5\": \"seen_3\",\n",
    "                 \"Unnamed: 6\": \"seen_4\",\n",
    "                 \"Unnamed: 7\": \"seen_5\",\n",
    "                 \"Unnamed: 8\": \"seen_6\"})\n",
    "print(\"Column names after change:\\n\", star_wars.columns[3:9])\n"
   ]
  },
  {
   "cell_type": "markdown",
   "metadata": {
    "collapsed": true
   },
   "source": [
    "## Modifying Preference rank columns\n",
    "\n",
    "The following 6 columns rank the 6 Star Wars movies from 1 to 6, or NaN. Being 6 the lowest score, and 1 the most favorite.\n",
    "\n",
    "Columns 9 to 14 inclusive:\n",
    "1. **Please rank the Star Wars films in order of preference with 1 being your favorite film in the franchise and 6 being your least favorite film. **- How much the respondent liked Episode I The Phantom Menace\n",
    "2. **Unnamed: 10** - How much the respondent liked Episode II Attack of the Clones\n",
    "3. **Unnamed: 11** - How much the respondent liked Episode III Revenge of the Sith\n",
    "4. **Unnamed: 12** - How much the respondent liked Episode IV A New Hope\n",
    "5. **Unnamed: 13** - How much the respondent liked Episode V The Empire Strikes Back\n",
    "6. **Unnamed: 14** - How much the respondent liked Episode VI Return of the Jedi"
   ]
  },
  {
   "cell_type": "code",
   "execution_count": 15,
   "metadata": {
    "collapsed": false
   },
   "outputs": [
    {
     "data": {
      "text/html": [
       "<div>\n",
       "<style scoped>\n",
       "    .dataframe tbody tr th:only-of-type {\n",
       "        vertical-align: middle;\n",
       "    }\n",
       "\n",
       "    .dataframe tbody tr th {\n",
       "        vertical-align: top;\n",
       "    }\n",
       "\n",
       "    .dataframe thead th {\n",
       "        text-align: right;\n",
       "    }\n",
       "</style>\n",
       "<table border=\"1\" class=\"dataframe\">\n",
       "  <thead>\n",
       "    <tr style=\"text-align: right;\">\n",
       "      <th></th>\n",
       "      <th>Please rank the Star Wars films in order of preference with 1 being your favorite film in the franchise and 6 being your least favorite film.</th>\n",
       "      <th>Unnamed: 10</th>\n",
       "      <th>Unnamed: 11</th>\n",
       "      <th>Unnamed: 12</th>\n",
       "      <th>Unnamed: 13</th>\n",
       "      <th>Unnamed: 14</th>\n",
       "    </tr>\n",
       "  </thead>\n",
       "  <tbody>\n",
       "    <tr>\n",
       "      <th>1</th>\n",
       "      <td>3</td>\n",
       "      <td>2</td>\n",
       "      <td>1</td>\n",
       "      <td>4</td>\n",
       "      <td>5</td>\n",
       "      <td>6</td>\n",
       "    </tr>\n",
       "    <tr>\n",
       "      <th>2</th>\n",
       "      <td>NaN</td>\n",
       "      <td>NaN</td>\n",
       "      <td>NaN</td>\n",
       "      <td>NaN</td>\n",
       "      <td>NaN</td>\n",
       "      <td>NaN</td>\n",
       "    </tr>\n",
       "    <tr>\n",
       "      <th>3</th>\n",
       "      <td>1</td>\n",
       "      <td>2</td>\n",
       "      <td>3</td>\n",
       "      <td>4</td>\n",
       "      <td>5</td>\n",
       "      <td>6</td>\n",
       "    </tr>\n",
       "  </tbody>\n",
       "</table>\n",
       "</div>"
      ],
      "text/plain": [
       "  Please rank the Star Wars films in order of preference with 1 being your favorite film in the franchise and 6 being your least favorite film.  \\\n",
       "1                                                  3                                                                                              \n",
       "2                                                NaN                                                                                              \n",
       "3                                                  1                                                                                              \n",
       "\n",
       "  Unnamed: 10 Unnamed: 11 Unnamed: 12 Unnamed: 13 Unnamed: 14  \n",
       "1           2           1           4           5           6  \n",
       "2         NaN         NaN         NaN         NaN         NaN  \n",
       "3           2           3           4           5           6  "
      ]
     },
     "execution_count": 15,
     "metadata": {},
     "output_type": "execute_result"
    }
   ],
   "source": [
    "star_wars[star_wars.columns[9:15]].head(3)"
   ]
  },
  {
   "cell_type": "markdown",
   "metadata": {},
   "source": [
    "* Need to convert to float values first"
   ]
  },
  {
   "cell_type": "code",
   "execution_count": 16,
   "metadata": {
    "collapsed": false
   },
   "outputs": [
    {
     "data": {
      "text/html": [
       "<div>\n",
       "<style scoped>\n",
       "    .dataframe tbody tr th:only-of-type {\n",
       "        vertical-align: middle;\n",
       "    }\n",
       "\n",
       "    .dataframe tbody tr th {\n",
       "        vertical-align: top;\n",
       "    }\n",
       "\n",
       "    .dataframe thead th {\n",
       "        text-align: right;\n",
       "    }\n",
       "</style>\n",
       "<table border=\"1\" class=\"dataframe\">\n",
       "  <thead>\n",
       "    <tr style=\"text-align: right;\">\n",
       "      <th></th>\n",
       "      <th>Please rank the Star Wars films in order of preference with 1 being your favorite film in the franchise and 6 being your least favorite film.</th>\n",
       "      <th>Unnamed: 10</th>\n",
       "      <th>Unnamed: 11</th>\n",
       "      <th>Unnamed: 12</th>\n",
       "      <th>Unnamed: 13</th>\n",
       "      <th>Unnamed: 14</th>\n",
       "    </tr>\n",
       "  </thead>\n",
       "  <tbody>\n",
       "    <tr>\n",
       "      <th>1</th>\n",
       "      <td>3.0</td>\n",
       "      <td>2.0</td>\n",
       "      <td>1.0</td>\n",
       "      <td>4.0</td>\n",
       "      <td>5.0</td>\n",
       "      <td>6.0</td>\n",
       "    </tr>\n",
       "    <tr>\n",
       "      <th>2</th>\n",
       "      <td>NaN</td>\n",
       "      <td>NaN</td>\n",
       "      <td>NaN</td>\n",
       "      <td>NaN</td>\n",
       "      <td>NaN</td>\n",
       "      <td>NaN</td>\n",
       "    </tr>\n",
       "    <tr>\n",
       "      <th>3</th>\n",
       "      <td>1.0</td>\n",
       "      <td>2.0</td>\n",
       "      <td>3.0</td>\n",
       "      <td>4.0</td>\n",
       "      <td>5.0</td>\n",
       "      <td>6.0</td>\n",
       "    </tr>\n",
       "  </tbody>\n",
       "</table>\n",
       "</div>"
      ],
      "text/plain": [
       "   Please rank the Star Wars films in order of preference with 1 being your favorite film in the franchise and 6 being your least favorite film.  \\\n",
       "1                                                3.0                                                                                               \n",
       "2                                                NaN                                                                                               \n",
       "3                                                1.0                                                                                               \n",
       "\n",
       "   Unnamed: 10  Unnamed: 11  Unnamed: 12  Unnamed: 13  Unnamed: 14  \n",
       "1          2.0          1.0          4.0          5.0          6.0  \n",
       "2          NaN          NaN          NaN          NaN          NaN  \n",
       "3          2.0          3.0          4.0          5.0          6.0  "
      ]
     },
     "execution_count": 16,
     "metadata": {},
     "output_type": "execute_result"
    }
   ],
   "source": [
    "#Converting 6 column values to float values\n",
    "star_wars[star_wars.columns[9:15]] = star_wars[star_wars.columns[9:15]].astype(float)\n",
    "star_wars[star_wars.columns[9:15]].head(3)"
   ]
  },
  {
   "cell_type": "code",
   "execution_count": 17,
   "metadata": {
    "collapsed": false
   },
   "outputs": [
    {
     "name": "stdout",
     "output_type": "stream",
     "text": [
      "Old column names:\n",
      " Index(['Please rank the Star Wars films in order of preference with 1 being your favorite film in the franchise and 6 being your least favorite film.',\n",
      "       'Unnamed: 10', 'Unnamed: 11', 'Unnamed: 12', 'Unnamed: 13',\n",
      "       'Unnamed: 14'],\n",
      "      dtype='object') \n",
      "\n",
      "New column names:\n",
      " Index(['ranking_1', 'ranking_2', 'ranking_3', 'ranking_4', 'ranking_5',\n",
      "       'ranking_6'],\n",
      "      dtype='object')\n"
     ]
    }
   ],
   "source": [
    "#Renaming columns to more descriptive names\n",
    "print(\"Old column names:\\n\", star_wars.columns[9:15], \"\\n\")\n",
    "star_wars = star_wars.rename(columns = {\"Please rank the Star Wars films in order of preference with 1 being your favorite film in the franchise and 6 being your least favorite film.\":\"ranking_1\",\n",
    "                                       \"Unnamed: 10\":\"ranking_2\",\n",
    "                                       \"Unnamed: 11\":\"ranking_3\",\n",
    "                                       \"Unnamed: 12\":\"ranking_4\",\n",
    "                                       \"Unnamed: 13\":\"ranking_5\",\n",
    "                                       \"Unnamed: 14\":\"ranking_6\"})\n",
    "print(\"New column names:\\n\", star_wars.columns[9:15])"
   ]
  },
  {
   "cell_type": "markdown",
   "metadata": {},
   "source": [
    "**Capturing highest ranked movie**"
   ]
  },
  {
   "cell_type": "code",
   "execution_count": 18,
   "metadata": {
    "collapsed": false
   },
   "outputs": [
    {
     "data": {
      "text/plain": [
       "ranking_1    3.732934\n",
       "ranking_2    4.087321\n",
       "ranking_3    4.341317\n",
       "ranking_4    3.272727\n",
       "ranking_5    2.513158\n",
       "ranking_6    3.047847\n",
       "dtype: float64"
      ]
     },
     "execution_count": 18,
     "metadata": {},
     "output_type": "execute_result"
    }
   ],
   "source": [
    "#Finding Arithmetic mean of ranked columns\n",
    "star_wars[star_wars.columns[9:15]].mean()"
   ]
  },
  {
   "cell_type": "code",
   "execution_count": 19,
   "metadata": {
    "collapsed": false
   },
   "outputs": [
    {
     "data": {
      "image/png": "[encoded data removed]",
      "text/plain": [
       "<matplotlib.figure.Figure at 0x7ff158a0f6a0>"
      ]
     },
     "metadata": {},
     "output_type": "display_data"
    }
   ],
   "source": [
    "#Plotting averages of movies rated\n",
    "plt.bar(range(6), star_wars[star_wars.columns[9:15]].mean(), color=\"green\")\n",
    "plt.xlabel(list(star_wars.columns[9:15]))\n",
    "plt.show()"
   ]
  },
  {
   "cell_type": "markdown",
   "metadata": {},
   "source": [
    "* As we can see in the previous graph, Star Wars movie 3 received the lowest rating. The last 3 Star war movies received the highest rating (closer to 1) on average."
   ]
  },
  {
   "cell_type": "markdown",
   "metadata": {},
   "source": [
    "### Calculating amount of viewers per Movie (using seen columns)\n",
    "\n",
    "We can calculate the amount of people that watched each movie (column) by counting the values returned from the questionaire. \n",
    "\n",
    "These values are Boolean, and so they account for 1 for each row in the respective column(movie)."
   ]
  },
  {
   "cell_type": "code",
   "execution_count": 20,
   "metadata": {
    "collapsed": false
   },
   "outputs": [
    {
     "data": {
      "text/plain": [
       "seen_1    673\n",
       "seen_2    571\n",
       "seen_3    550\n",
       "seen_4    607\n",
       "seen_5    758\n",
       "seen_6    738\n",
       "dtype: int64"
      ]
     },
     "execution_count": 20,
     "metadata": {},
     "output_type": "execute_result"
    }
   ],
   "source": [
    "#Counting viewers on seen columns\n",
    "seen_sum = star_wars[star_wars.columns[3:9]].sum()\n",
    "seen_sum"
   ]
  },
  {
   "cell_type": "code",
   "execution_count": 21,
   "metadata": {
    "collapsed": false
   },
   "outputs": [
    {
     "data": {
      "image/png": "[encoded data removed]",
      "text/plain": [
       "<matplotlib.figure.Figure at 0x7ff156a05048>"
      ]
     },
     "metadata": {},
     "output_type": "display_data"
    }
   ],
   "source": [
    "plt.bar(range(6), seen_sum, color=\"green\")\n",
    "plt.xlabel(list(star_wars.columns[3:9]))\n",
    "plt.show()"
   ]
  },
  {
   "cell_type": "markdown",
   "metadata": {},
   "source": [
    "* The most watched movies are the last two movies, which are also the highest rated.\n",
    "* The least watched movies are movie 2, 3, and 4. These movies are also the lowest rated."
   ]
  },
  {
   "cell_type": "markdown",
   "metadata": {},
   "source": [
    "## Analyzing disting Survey population\n",
    "\n",
    "The population of survey respondents can be divided among by the following columns:\n",
    "1. **Do you consider yourself to be a fan of the Star Wars film franchise?** - True or False\n",
    "2. **Do you consider yourself to be a fan of the Star Trek franchise?** - Yes or No\n",
    "3. **Gender** - Male or Female"
   ]
  },
  {
   "cell_type": "markdown",
   "metadata": {},
   "source": [
    "The dataframe can be split into two groups based on the binary columns, which will help observe which movies are more popular depending on the group population"
   ]
  },
  {
   "cell_type": "markdown",
   "metadata": {
    "collapsed": true
   },
   "source": [
    "**Splitting**"
   ]
  },
  {
   "cell_type": "code",
   "execution_count": 25,
   "metadata": {
    "collapsed": true
   },
   "outputs": [],
   "source": [
    "#Based on Star Wars fan\n",
    "starwarsfan_yes = star_wars[star_wars[\"Do you consider yourself to be a fan of the Star Wars film franchise?\"]==True]\n",
    "starwarsfan_no = star_wars[star_wars[\"Do you consider yourself to be a fan of the Star Wars film franchise?\"]==False]\n",
    "#Based on Star Trek fan\n",
    "startrekfan_yes = star_wars[star_wars[\"Do you consider yourself to be a fan of the Star Trek franchise?\"]==\"Yes\"]\n",
    "startrekfan_no = star_wars[star_wars[\"Do you consider yourself to be a fan of the Star Trek franchise?\"]==\"No\"]\n",
    "#Based on gender\n",
    "males = star_wars[star_wars[\"Gender\"]==\"Male\"]\n",
    "females = star_wars[star_wars[\"Gender\"]==\"Female\"]"
   ]
  },
  {
   "cell_type": "markdown",
   "metadata": {},
   "source": [
    "## New analysis based on splits\n",
    "**Star Wars Fan**"
   ]
  },
  {
   "cell_type": "code",
   "execution_count": 43,
   "metadata": {
    "collapsed": false
   },
   "outputs": [
    {
     "data": {
      "image/png": "[encoded data removed]",
      "text/plain": [
       "<matplotlib.figure.Figure at 0x7ff1566cfac8>"
      ]
     },
     "metadata": {},
     "output_type": "display_data"
    }
   ],
   "source": [
    "plt.bar(range(6), starwarsfan_yes[starwarsfan_yes.columns[9:15]].mean(), color=\"blue\")\n",
    "plt.xlabel(list(starwarsfan_yes.columns[9:15]))\n",
    "plt.title(\"Star wars fans ranking\")\n",
    "plt.show()"
   ]
  },
  {
   "cell_type": "code",
   "execution_count": 36,
   "metadata": {
    "collapsed": false
   },
   "outputs": [
    {
     "data": {
      "image/png": "[encoded data removed]",
      "text/plain": [
       "<matplotlib.figure.Figure at 0x7ff1565727f0>"
      ]
     },
     "metadata": {},
     "output_type": "display_data"
    }
   ],
   "source": [
    "plt.bar(range(6), starwarsfan_no[starwarsfan_no.columns[9:15]].mean(), color=\"y\")\n",
    "plt.xlabel(list(starwarsfan_no.columns[9:15]))\n",
    "plt.title(\"Star wars not-fans ranking\")\n",
    "plt.show()"
   ]
  },
  {
   "cell_type": "markdown",
   "metadata": {},
   "source": [
    "* It is observed that among fans, the last three movies were the highest ranked"
   ]
  },
  {
   "cell_type": "code",
   "execution_count": 37,
   "metadata": {
    "collapsed": false
   },
   "outputs": [
    {
     "data": {
      "image/png": "[encoded data removed]",
      "text/plain": [
       "<matplotlib.figure.Figure at 0x7ff156782278>"
      ]
     },
     "metadata": {},
     "output_type": "display_data"
    }
   ],
   "source": [
    "plt.bar(range(6), starwarsfan_yes[starwarsfan_yes.columns[3:9]].sum(), color=\"b\")\n",
    "plt.xlabel(list(starwarsfan_yes.columns[3:9]))\n",
    "plt.title(\"Star wars fans seen movie\")\n",
    "plt.show()"
   ]
  },
  {
   "cell_type": "code",
   "execution_count": 38,
   "metadata": {
    "collapsed": false
   },
   "outputs": [
    {
     "data": {
      "image/png": "[encoded data removed]",
      "text/plain": [
       "<matplotlib.figure.Figure at 0x7ff15688b8d0>"
      ]
     },
     "metadata": {},
     "output_type": "display_data"
    }
   ],
   "source": [
    "plt.bar(range(6), starwarsfan_no[starwarsfan_no.columns[3:9]].sum(), color=\"y\")\n",
    "plt.xlabel(list(starwarsfan_no.columns[3:9]))\n",
    "plt.title(\"Star wars not-fans seen movie\")\n",
    "plt.show()"
   ]
  },
  {
   "cell_type": "markdown",
   "metadata": {},
   "source": [
    "* Last two graphs show the obvious, Star Wars fans show 5 times more seen than not fans"
   ]
  },
  {
   "cell_type": "markdown",
   "metadata": {},
   "source": [
    "**Based on Gender**"
   ]
  },
  {
   "cell_type": "code",
   "execution_count": 44,
   "metadata": {
    "collapsed": false
   },
   "outputs": [
    {
     "data": {
      "image/png": "[encoded data removed]",
      "text/plain": [
       "<matplotlib.figure.Figure at 0x7ff1567c98d0>"
      ]
     },
     "metadata": {},
     "output_type": "display_data"
    }
   ],
   "source": [
    "plt.bar(range(6), males[males.columns[9:15]].mean(), color=\"blue\")\n",
    "plt.xlabel(list(males.columns[9:15]))\n",
    "plt.title(\"males ranking\")\n",
    "plt.show()"
   ]
  },
  {
   "cell_type": "code",
   "execution_count": 47,
   "metadata": {
    "collapsed": false
   },
   "outputs": [
    {
     "data": {
      "image/png": "[encoded data removed]",
      "text/plain": [
       "<matplotlib.figure.Figure at 0x7ff15640f780>"
      ]
     },
     "metadata": {},
     "output_type": "display_data"
    }
   ],
   "source": [
    "plt.bar(range(6), females[females.columns[9:15]].mean(), color=\"y\")\n",
    "plt.xlabel(list(females.columns[9:15]))\n",
    "plt.title(\"females ranking\")\n",
    "plt.show()"
   ]
  },
  {
   "cell_type": "code",
   "execution_count": 48,
   "metadata": {
    "collapsed": false
   },
   "outputs": [
    {
     "data": {
      "image/png": "[encoded data removed]",
      "text/plain": [
       "<matplotlib.figure.Figure at 0x7ff156403438>"
      ]
     },
     "metadata": {},
     "output_type": "display_data"
    }
   ],
   "source": [
    "plt.bar(range(6), males[males.columns[3:9]].sum(), color=\"b\")\n",
    "plt.xlabel(list(males.columns[3:9]))\n",
    "plt.title(\"males seen movie\")\n",
    "plt.show()"
   ]
  },
  {
   "cell_type": "code",
   "execution_count": 49,
   "metadata": {
    "collapsed": false
   },
   "outputs": [
    {
     "data": {
      "image/png": "[encoded data removed]",
      "text/plain": [
       "<matplotlib.figure.Figure at 0x7ff1563866d8>"
      ]
     },
     "metadata": {},
     "output_type": "display_data"
    }
   ],
   "source": [
    "plt.bar(range(6), females[females.columns[3:9]].sum(), color=\"y\")\n",
    "plt.xlabel(list(females.columns[3:9]))\n",
    "plt.title(\"females seen movie\")\n",
    "plt.show()"
   ]
  },
  {
   "cell_type": "code",
   "execution_count": null,
   "metadata": {
    "collapsed": true
   },
   "outputs": [],
   "source": []
  }
 ],
 "metadata": {
  "kernelspec": {
   "display_name": "Python 3",
   "language": "python",
   "name": "python3"
  },
  "language_info": {
   "codemirror_mode": {
    "name": "ipython",
    "version": 3
   },
   "file_extension": ".py",
   "mimetype": "text/x-python",
   "name": "python",
   "nbconvert_exporter": "python",
   "pygments_lexer": "ipython3",
   "version": "3.4.3"
  }
 },
 "nbformat": 4,
 "nbformat_minor": 0
}
