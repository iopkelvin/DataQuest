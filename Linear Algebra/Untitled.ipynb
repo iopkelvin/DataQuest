{
 "cells": [
  {
   "cell_type": "code",
   "execution_count": 1,
   "metadata": {},
   "outputs": [],
   "source": [
    "import pandas as pd\n",
    "import numpy as np\n"
   ]
  },
  {
   "cell_type": "code",
   "execution_count": 2,
   "metadata": {},
   "outputs": [],
   "source": [
    "matrix_a = np.asarray([\n",
    "    [1.5, 3],\n",
    "    [1, 4]\n",
    "])"
   ]
  },
  {
   "cell_type": "code",
   "execution_count": null,
   "metadata": {},
   "outputs": [],
   "source": [
    "determinant = matrix[1][1]*matrix[0][0] - matrix[0][1]*matrix[1][0]"
   ]
  },
  {
   "cell_type": "code",
   "execution_count": 3,
   "metadata": {},
   "outputs": [],
   "source": [
    "def matrix_inverse_two(matrix):\n",
    "    determinant = matrix[1][1]*matrix[0][0] - matrix[0][1]*matrix[1][0]\n",
    "    while determinant!=0:\n",
    "        try:\n",
    "            matrix = np.array([[matrix[1][1], matrix[0][1]], \n",
    "                              [matrix[1][0], matrix[0][0]]])\n",
    "            matrix_inverse = 1/determinant * matrix\n",
    "            return matrix_inverse\n",
    "            break\n",
    "        except ValueError:\n",
    "            print('Determinant is 0')\n"
   ]
  },
  {
   "cell_type": "code",
   "execution_count": null,
   "metadata": {},
   "outputs": [],
   "source": [
    "while determinant!=0:\n",
    "    try:\n",
    "        matrix = np.array([[matrix[1][1], matrix[0][1]], \n",
    "                          [matrix[1][0], matrix[0][0]]])\n",
    "        matrix_inverse = 1/determinant * matrix\n",
    "        break\n",
    "    except ValueError:\n",
    "        print('Determinant is 0')"
   ]
  },
  {
   "cell_type": "code",
   "execution_count": 4,
   "metadata": {
    "scrolled": true
   },
   "outputs": [],
   "source": [
    "\n",
    "inverse_a = matrix_inverse_two(matrix_a)"
   ]
  },
  {
   "cell_type": "code",
   "execution_count": 5,
   "metadata": {},
   "outputs": [
    {
     "name": "stdout",
     "output_type": "stream",
     "text": [
      "[[3. 8.]\n",
      " [1. 3.]]\n"
     ]
    }
   ],
   "source": [
    "i_2 = np.dot(inverse_a, matrix_a)\n",
    "print(i_2)"
   ]
  },
  {
   "cell_type": "code",
   "execution_count": 10,
   "metadata": {},
   "outputs": [
    {
     "name": "stdout",
     "output_type": "stream",
     "text": [
      "[[1. 0.]\n",
      " [0. 1.]]\n"
     ]
    }
   ],
   "source": [
    "matrix_a = np.asarray([\n",
    "    [1.5, 3],\n",
    "    [1, 4]\n",
    "])\n",
    "def matrix_inverse_two(matrix):\n",
    "    determinant = matrix[1][1]*matrix[0][0] - matrix[0][1]*matrix[1][0]\n",
    "    while determinant!=0:\n",
    "        try:\n",
    "            matrix = np.array([[matrix[1][1], -matrix[0][1]], \n",
    "                              [-matrix[1][0], matrix[0][0]]])\n",
    "            matrix_inverse = 1/determinant * matrix\n",
    "            return matrix_inverse\n",
    "            break\n",
    "        except ValueError:\n",
    "            print('Determinant is 0')\n",
    "        \n",
    "inverse_a = matrix_inverse_two(matrix_a)\n",
    "i_2 = np.dot(inverse_a, matrix_a)\n",
    "print(i_2)"
   ]
  },
  {
   "cell_type": "code",
   "execution_count": 9,
   "metadata": {},
   "outputs": [
    {
     "name": "stdout",
     "output_type": "stream",
     "text": [
      "[[1. 0.]\n",
      " [0. 1.]]\n"
     ]
    }
   ],
   "source": [
    "matrix_a = np.asarray([\n",
    "    [1.5, 3],\n",
    "    [1, 4]\n",
    "])\n",
    "def matrix_inverse_two(mat):\n",
    "    det = (mat[0,0]*mat[1,1] - mat[0,1]*mat[1,0])\n",
    "    if det == 0:\n",
    "        raise ValueError(\"The matrix isn't invertible\")\n",
    "    right_mat = np.asarray([\n",
    "        [mat[1,1], -mat[0,1]],\n",
    "        [-mat[1,0], mat[0,0]]\n",
    "    ])\n",
    "    inv_mat = np.dot(1/det, right_mat)\n",
    "    return inv_mat\n",
    "inverse_a = matrix_inverse_two(matrix_a)\n",
    "i_2 = np.dot(inverse_a, matrix_a)\n",
    "print(i_2)"
   ]
  },
  {
   "cell_type": "code",
   "execution_count": null,
   "metadata": {},
   "outputs": [],
   "source": []
  }
 ],
 "metadata": {
  "kernelspec": {
   "display_name": "Python 3",
   "language": "python",
   "name": "python3"
  },
  "language_info": {
   "codemirror_mode": {
    "name": "ipython",
    "version": 3
   },
   "file_extension": ".py",
   "mimetype": "text/x-python",
   "name": "python",
   "nbconvert_exporter": "python",
   "pygments_lexer": "ipython3",
   "version": "3.7.5"
  }
 },
 "nbformat": 4,
 "nbformat_minor": 2
}
